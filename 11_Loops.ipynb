{
 "cells": [
  {
   "cell_type": "markdown",
   "id": "7c4534fe",
   "metadata": {},
   "source": [
    "# two types of loops \n",
    " 1. While Loop \n",
    " 2. For Loop"
   ]
  },
  {
   "cell_type": "code",
   "execution_count": 1,
   "id": "11e9e3c1",
   "metadata": {},
   "outputs": [
    {
     "name": "stdout",
     "output_type": "stream",
     "text": [
      "0\n",
      "1\n",
      "2\n",
      "3\n",
      "4\n",
      "5\n",
      "6\n",
      "7\n",
      "8\n",
      "9\n"
     ]
    }
   ],
   "source": [
    "x = 0\n",
    "while(x<5):\n",
    "    print(x)\n",
    "    x= x + 1\n",
    "\n",
    "\n",
    "for x in range(5, 10):\n",
    "    print(x)\n"
   ]
  },
  {
   "cell_type": "code",
   "execution_count": 2,
   "id": "b3affa70",
   "metadata": {},
   "outputs": [
    {
     "name": "stdout",
     "output_type": "stream",
     "text": [
      "monday\n",
      "tuesday\n",
      "thursday\n",
      "friday\n",
      "saturday\n",
      "sudnay\n"
     ]
    }
   ],
   "source": [
    "days = [\"monday\", \"tuesday\", \"wednesday\", \"thursday\", \"friday\", \"saturday\", \"sudnay\"]\n",
    "\n",
    "for day in days:\n",
    "    # if (day == \"wednesday\"): #will stop at the said day\n",
    "    #     break\n",
    "    # print(day)\n",
    "\n",
    "    if (day == \"wednesday\"): #will skip the said day\n",
    "        continue\n",
    "    print(day)"
   ]
  },
  {
   "cell_type": "code",
   "execution_count": null,
   "id": "721cc936",
   "metadata": {},
   "outputs": [],
   "source": []
  }
 ],
 "metadata": {
  "kernelspec": {
   "display_name": "Python 3 (ipykernel)",
   "language": "python",
   "name": "python3"
  },
  "language_info": {
   "codemirror_mode": {
    "name": "ipython",
    "version": 3
   },
   "file_extension": ".py",
   "mimetype": "text/x-python",
   "name": "python",
   "nbconvert_exporter": "python",
   "pygments_lexer": "ipython3",
   "version": "3.9.7"
  }
 },
 "nbformat": 4,
 "nbformat_minor": 5
}
