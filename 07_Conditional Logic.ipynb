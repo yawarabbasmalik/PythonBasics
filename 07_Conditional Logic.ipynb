{
 "cells": [
  {
   "cell_type": "code",
   "execution_count": 1,
   "id": "9147cd7f",
   "metadata": {},
   "outputs": [
    {
     "name": "stdout",
     "output_type": "stream",
     "text": [
      "True\n"
     ]
    }
   ],
   "source": [
    "#equal to\n",
    "print(4==4)\n"
   ]
  },
  {
   "cell_type": "code",
   "execution_count": 2,
   "id": "aa271ac5",
   "metadata": {},
   "outputs": [
    {
     "name": "stdout",
     "output_type": "stream",
     "text": [
      "False\n"
     ]
    }
   ],
   "source": [
    "#is not equal to\n",
    "print(4!=4)\n"
   ]
  },
  {
   "cell_type": "code",
   "execution_count": 3,
   "id": "e410e8a2",
   "metadata": {},
   "outputs": [
    {
     "name": "stdout",
     "output_type": "stream",
     "text": [
      "True\n"
     ]
    }
   ],
   "source": [
    "#greater than\n",
    "print(4>3)\n"
   ]
  },
  {
   "cell_type": "code",
   "execution_count": 4,
   "id": "90913b53",
   "metadata": {},
   "outputs": [
    {
     "name": "stdout",
     "output_type": "stream",
     "text": [
      "False\n"
     ]
    }
   ],
   "source": [
    "# less than\n",
    "print(2<1)\n"
   ]
  },
  {
   "cell_type": "code",
   "execution_count": 5,
   "id": "84dcd083",
   "metadata": {},
   "outputs": [
    {
     "name": "stdout",
     "output_type": "stream",
     "text": [
      "True\n"
     ]
    }
   ],
   "source": [
    "#less than or equal to\n",
    "print(5>=2)\n"
   ]
  },
  {
   "cell_type": "code",
   "execution_count": 6,
   "id": "06771abf",
   "metadata": {},
   "outputs": [
    {
     "name": "stdout",
     "output_type": "stream",
     "text": [
      "True\n"
     ]
    }
   ],
   "source": [
    "#greater than or equal to\n",
    "print(5>=2)"
   ]
  },
  {
   "cell_type": "code",
   "execution_count": 7,
   "id": "29ed24bc",
   "metadata": {},
   "outputs": [
    {
     "name": "stdout",
     "output_type": "stream",
     "text": [
      "What is your age? 25\n",
      "False\n"
     ]
    }
   ],
   "source": [
    "school_going_age = 5\n",
    "age = int(input(\"What is your age? \"))\n",
    "print(school_going_age==age)"
   ]
  },
  {
   "cell_type": "code",
   "execution_count": null,
   "id": "d16a1846",
   "metadata": {},
   "outputs": [],
   "source": []
  }
 ],
 "metadata": {
  "kernelspec": {
   "display_name": "Python 3 (ipykernel)",
   "language": "python",
   "name": "python3"
  },
  "language_info": {
   "codemirror_mode": {
    "name": "ipython",
    "version": 3
   },
   "file_extension": ".py",
   "mimetype": "text/x-python",
   "name": "python",
   "nbconvert_exporter": "python",
   "pygments_lexer": "ipython3",
   "version": "3.9.7"
  }
 },
 "nbformat": 4,
 "nbformat_minor": 5
}
