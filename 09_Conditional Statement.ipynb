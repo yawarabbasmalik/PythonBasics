{
 "cells": [
  {
   "cell_type": "code",
   "execution_count": 1,
   "id": "8cc88516",
   "metadata": {},
   "outputs": [
    {
     "name": "stdout",
     "output_type": "stream",
     "text": [
      "Hammad cannot go to school\n"
     ]
    }
   ],
   "source": [
    "school_going_age = 5\n",
    "hammad_age = 4\n",
    "\n",
    "#can hammad go to school?\n",
    "\n",
    "if hammad_age == school_going_age:\n",
    "    print(\"Hammad can go to school\")\n",
    "\n",
    "else:\n",
    "    print(\"Hammad cannot go to school\")\n"
   ]
  },
  {
   "cell_type": "code",
   "execution_count": 2,
   "id": "783e50b5",
   "metadata": {},
   "outputs": [
    {
     "name": "stdout",
     "output_type": "stream",
     "text": [
      "Hammad should join primary school\n"
     ]
    }
   ],
   "source": [
    "\n",
    "school_going_age = 5\n",
    "hammad_age = 10\n",
    "\n",
    "#can hammad go to school?\n",
    "\n",
    "if hammad_age == school_going_age:\n",
    "    print(\"Hammad can go to school\")\n",
    "elif hammad_age > school_going_age:\n",
    "    print(\"Hammad should join primary school\")\n",
    "     \n",
    "else:\n",
    "    print(\"Hammad cannot go to school\")\n",
    "\n"
   ]
  },
  {
   "cell_type": "code",
   "execution_count": null,
   "id": "5d88864a",
   "metadata": {},
   "outputs": [],
   "source": []
  }
 ],
 "metadata": {
  "kernelspec": {
   "display_name": "Python 3 (ipykernel)",
   "language": "python",
   "name": "python3"
  },
  "language_info": {
   "codemirror_mode": {
    "name": "ipython",
    "version": 3
   },
   "file_extension": ".py",
   "mimetype": "text/x-python",
   "name": "python",
   "nbconvert_exporter": "python",
   "pygments_lexer": "ipython3",
   "version": "3.9.7"
  }
 },
 "nbformat": 4,
 "nbformat_minor": 5
}
