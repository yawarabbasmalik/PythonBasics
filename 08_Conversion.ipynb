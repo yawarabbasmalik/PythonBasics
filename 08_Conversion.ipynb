{
 "cells": [
  {
   "cell_type": "code",
   "execution_count": 1,
   "id": "451bf663",
   "metadata": {},
   "outputs": [
    {
     "name": "stdout",
     "output_type": "stream",
     "text": [
      "x type is:  <class 'int'>\n",
      "y type is:  <class 'float'>\n",
      "z type is: <class 'str'>\n"
     ]
    }
   ],
   "source": [
    "x = 10\n",
    "y = 12.5\n",
    "z = \"Hi\"\n",
    "\n",
    "print(\"x type is: \", type(x))\n",
    "\n",
    "print(\"y type is: \", type(y))\n",
    "\n",
    "print(\"z type is:\", type(z))\n"
   ]
  },
  {
   "cell_type": "code",
   "execution_count": 2,
   "id": "224f9906",
   "metadata": {},
   "outputs": [
    {
     "name": "stdout",
     "output_type": "stream",
     "text": [
      "what is your name? Tauqeer\n",
      "Tauqeer <class 'str'>\n"
     ]
    }
   ],
   "source": [
    "name = input(\"what is your name? \")\n",
    "\n",
    "print(name, type(str(name)))"
   ]
  },
  {
   "cell_type": "code",
   "execution_count": null,
   "id": "13c22e76",
   "metadata": {},
   "outputs": [],
   "source": []
  }
 ],
 "metadata": {
  "kernelspec": {
   "display_name": "Python 3 (ipykernel)",
   "language": "python",
   "name": "python3"
  },
  "language_info": {
   "codemirror_mode": {
    "name": "ipython",
    "version": 3
   },
   "file_extension": ".py",
   "mimetype": "text/x-python",
   "name": "python",
   "nbconvert_exporter": "python",
   "pygments_lexer": "ipython3",
   "version": "3.9.7"
  }
 },
 "nbformat": 4,
 "nbformat_minor": 5
}
