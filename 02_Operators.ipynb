{
 "cells": [
  {
   "cell_type": "markdown",
   "id": "3f0d3f97",
   "metadata": {},
   "source": [
    "# Operators\n",
    "\n",
    "\n",
    "## PEMDAS\n",
    "## prenthesis\n",
    "## exponents\n",
    "## muliplication\n",
    "## division\n",
    "## addition\n",
    "## subtraction"
   ]
  },
  {
   "cell_type": "code",
   "execution_count": 1,
   "id": "0e7ffd4b",
   "metadata": {},
   "outputs": [
    {
     "name": "stdout",
     "output_type": "stream",
     "text": [
      "5\n"
     ]
    }
   ],
   "source": [
    "print (2+3)\n"
   ]
  },
  {
   "cell_type": "code",
   "execution_count": 2,
   "id": "c90ca912",
   "metadata": {},
   "outputs": [
    {
     "name": "stdout",
     "output_type": "stream",
     "text": [
      "0\n"
     ]
    }
   ],
   "source": [
    "print (3-3)\n"
   ]
  },
  {
   "cell_type": "code",
   "execution_count": 3,
   "id": "35919165",
   "metadata": {},
   "outputs": [
    {
     "name": "stdout",
     "output_type": "stream",
     "text": [
      "3.0\n"
     ]
    }
   ],
   "source": [
    "print(6/2) # this will give floating number\n"
   ]
  },
  {
   "cell_type": "code",
   "execution_count": 4,
   "id": "84b080e2",
   "metadata": {},
   "outputs": [
    {
     "name": "stdout",
     "output_type": "stream",
     "text": [
      "3\n"
     ]
    }
   ],
   "source": [
    "print(6//2) # for normal whole number\n"
   ]
  },
  {
   "cell_type": "code",
   "execution_count": 5,
   "id": "a13298ce",
   "metadata": {},
   "outputs": [
    {
     "name": "stdout",
     "output_type": "stream",
     "text": [
      "6\n"
     ]
    }
   ],
   "source": [
    "print(2*3)\n"
   ]
  },
  {
   "cell_type": "code",
   "execution_count": 6,
   "id": "a74f92b3",
   "metadata": {},
   "outputs": [
    {
     "name": "stdout",
     "output_type": "stream",
     "text": [
      "1\n"
     ]
    }
   ],
   "source": [
    "print(13%2)\n"
   ]
  },
  {
   "cell_type": "code",
   "execution_count": 7,
   "id": "3e379908",
   "metadata": {},
   "outputs": [
    {
     "name": "stdout",
     "output_type": "stream",
     "text": [
      "8\n"
     ]
    }
   ],
   "source": [
    "print(2**3) #for power value\n"
   ]
  },
  {
   "cell_type": "code",
   "execution_count": 8,
   "id": "039b765d",
   "metadata": {},
   "outputs": [
    {
     "name": "stdout",
     "output_type": "stream",
     "text": [
      "6.5\n"
     ]
    }
   ],
   "source": [
    "print(3**2/2*3/3+6-4)\n"
   ]
  },
  {
   "cell_type": "code",
   "execution_count": null,
   "id": "096880b8",
   "metadata": {},
   "outputs": [],
   "source": []
  }
 ],
 "metadata": {
  "kernelspec": {
   "display_name": "Python 3 (ipykernel)",
   "language": "python",
   "name": "python3"
  },
  "language_info": {
   "codemirror_mode": {
    "name": "ipython",
    "version": 3
   },
   "file_extension": ".py",
   "mimetype": "text/x-python",
   "name": "python",
   "nbconvert_exporter": "python",
   "pygments_lexer": "ipython3",
   "version": "3.9.7"
  }
 },
 "nbformat": 4,
 "nbformat_minor": 5
}
