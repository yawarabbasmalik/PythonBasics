{
 "cells": [
  {
   "cell_type": "code",
   "execution_count": 1,
   "id": "9736fd26",
   "metadata": {},
   "outputs": [
    {
     "name": "stdout",
     "output_type": "stream",
     "text": [
      "Apples\n",
      "You favourite fruit? mangos\n",
      "mangos\n"
     ]
    }
   ],
   "source": [
    "fruit_baseket = \"Apples\"\n",
    "print(fruit_baseket)\n",
    "\n",
    "# Using input function\n",
    "fruit_baseket = input(\"You favourite fruit? \")\n",
    "print(fruit_baseket)\n",
    "\n"
   ]
  },
  {
   "cell_type": "code",
   "execution_count": 2,
   "id": "0c45e847",
   "metadata": {},
   "outputs": [
    {
     "name": "stdout",
     "output_type": "stream",
     "text": [
      "What is your name? Attique\n",
      "Hello Attique\n"
     ]
    }
   ],
   "source": [
    "#2nd stage input funciton\n",
    "\n",
    "name = input(\"What is your name? \")\n",
    "greetings = \"Hello\"\n",
    "\n",
    "print(greetings, name)\n",
    "\n"
   ]
  },
  {
   "cell_type": "code",
   "execution_count": 3,
   "id": "f5c73f66",
   "metadata": {},
   "outputs": [
    {
     "name": "stdout",
     "output_type": "stream",
     "text": [
      "What is your name? mohsin\n",
      "Hello mohsin\n"
     ]
    }
   ],
   "source": [
    "name = input(\"What is your name? \")\n",
    "greetings = \"Hello\"\n",
    "\n",
    "print(\"Hello\", name)\n",
    "\n"
   ]
  },
  {
   "cell_type": "code",
   "execution_count": 4,
   "id": "cebb1ea3",
   "metadata": {},
   "outputs": [
    {
     "name": "stdout",
     "output_type": "stream",
     "text": [
      "What is your name? Kamran\n",
      "What is your age? 33\n",
      "Hello Kamran You ar still young.\n"
     ]
    }
   ],
   "source": [
    "#3rd stage function\n",
    "name = input(\"What is your name? \")\n",
    "age = int(input(\"What is your age? \"))\n",
    "\n",
    "greetings = \"Hello\"\n",
    "\n",
    "print(greetings, name, \"You ar still young.\")"
   ]
  },
  {
   "cell_type": "code",
   "execution_count": null,
   "id": "3e4745df",
   "metadata": {},
   "outputs": [],
   "source": []
  }
 ],
 "metadata": {
  "kernelspec": {
   "display_name": "Python 3 (ipykernel)",
   "language": "python",
   "name": "python3"
  },
  "language_info": {
   "codemirror_mode": {
    "name": "ipython",
    "version": 3
   },
   "file_extension": ".py",
   "mimetype": "text/x-python",
   "name": "python",
   "nbconvert_exporter": "python",
   "pygments_lexer": "ipython3",
   "version": "3.9.7"
  }
 },
 "nbformat": 4,
 "nbformat_minor": 5
}
