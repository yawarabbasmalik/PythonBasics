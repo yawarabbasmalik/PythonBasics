{
 "cells": [
  {
   "cell_type": "markdown",
   "id": "744b1df2",
   "metadata": {},
   "source": [
    "# Functions "
   ]
  },
  {
   "cell_type": "code",
   "execution_count": 4,
   "id": "eb807b98",
   "metadata": {},
   "outputs": [
    {
     "name": "stdout",
     "output_type": "stream",
     "text": [
      "first type of intilizing function.\n",
      "we are learning with Ammar\n",
      "we are learning with Ammar\n",
      "we are learning with Ammar\n"
     ]
    }
   ],
   "source": [
    "print(\"first type of intilizing function.\")\n",
    "\n",
    "def codanics_printing():\n",
    "    print(\"we are learning with Ammar\")\n",
    "    print(\"we are learning with Ammar\")\n",
    "    print(\"we are learning with Ammar\")\n",
    "\n",
    "codanics_printing()\n"
   ]
  },
  {
   "cell_type": "code",
   "execution_count": 7,
   "id": "8c7f5f4b",
   "metadata": {},
   "outputs": [
    {
     "name": "stdout",
     "output_type": "stream",
     "text": [
      "second type of intilizing function.\n",
      "We are leanring from Ammar using codanics\n",
      "fourth type of intilizing function.\n"
     ]
    }
   ],
   "source": [
    "print(\"second type of intilizing function.\")\n",
    "\n",
    "def codanics_printing(text):\n",
    "    print(text)\n",
    "    \n",
    "codanics_printing(\"We are leanring from Ammar using codanics\")\n",
    "\n",
    "print(\"fourth type of intilizing function.\")\n"
   ]
  },
  {
   "cell_type": "code",
   "execution_count": 9,
   "id": "6bb1ffed",
   "metadata": {},
   "outputs": [
    {
     "name": "stdout",
     "output_type": "stream",
     "text": [
      "third type of intilizing function.\n",
      "we are learning with Ammar in codanics\n"
     ]
    }
   ],
   "source": [
    "print(\"third type of intilizing function.\")\n",
    "\n",
    "def codanics_printing():\n",
    "    text = \"we are learning with Ammar in codanics\"\n",
    "    print(text)\n",
    "    \n",
    "codanics_printing()"
   ]
  },
  {
   "cell_type": "code",
   "execution_count": 10,
   "id": "35521e73",
   "metadata": {},
   "outputs": [
    {
     "name": "stdout",
     "output_type": "stream",
     "text": [
      "fourth type of intilizing function.\n",
      "Hammad can go to school\n"
     ]
    }
   ],
   "source": [
    "print(\"fourth type of intilizing function.\")\n",
    "\n",
    "def school_criteria(age, text):\n",
    "    if age == 5:\n",
    "        print(\"Hammad can go to school\")\n",
    "    \n",
    "    elif hammad_age > 5:\n",
    "        print(\"Hammad should join primary school\")\n",
    "     \n",
    "    else:\n",
    "        print(\"Hammad cannot go to school\")\n",
    "\n",
    "\n",
    "school_criteria(5, \"Hammad\")"
   ]
  },
  {
   "cell_type": "code",
   "execution_count": 11,
   "id": "5f4b7b0b",
   "metadata": {},
   "outputs": [
    {
     "name": "stdout",
     "output_type": "stream",
     "text": [
      "fifth type of intilizing function.\n",
      "35\n"
     ]
    }
   ],
   "source": [
    "print(\"fifth type of intilizing function.\")\n",
    "\n",
    "#defining a future function\n",
    "\n",
    "def future_age(age):\n",
    "    new_age = age + 20\n",
    "    return new_age\n",
    "\n",
    "furture_predictive_age = future_age(15)\n",
    "print(furture_predictive_age)"
   ]
  },
  {
   "cell_type": "code",
   "execution_count": null,
   "id": "6b090671",
   "metadata": {},
   "outputs": [],
   "source": []
  }
 ],
 "metadata": {
  "kernelspec": {
   "display_name": "Python 3 (ipykernel)",
   "language": "python",
   "name": "python3"
  },
  "language_info": {
   "codemirror_mode": {
    "name": "ipython",
    "version": 3
   },
   "file_extension": ".py",
   "mimetype": "text/x-python",
   "name": "python",
   "nbconvert_exporter": "python",
   "pygments_lexer": "ipython3",
   "version": "3.9.7"
  }
 },
 "nbformat": 4,
 "nbformat_minor": 5
}
