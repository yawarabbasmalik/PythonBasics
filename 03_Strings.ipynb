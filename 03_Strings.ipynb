{
 "cells": [
  {
   "cell_type": "code",
   "execution_count": 1,
   "id": "2b2734a8",
   "metadata": {},
   "outputs": [
    {
     "name": "stdout",
     "output_type": "stream",
     "text": [
      "Hello World\n"
     ]
    }
   ],
   "source": [
    "print (\"Hello World\")\n"
   ]
  },
  {
   "cell_type": "code",
   "execution_count": 2,
   "id": "0c90cdd4",
   "metadata": {},
   "outputs": [
    {
     "name": "stdout",
     "output_type": "stream",
     "text": [
      "We are learning Python with baba Ammar\n",
      "Test for single quote\n"
     ]
    }
   ],
   "source": [
    "print(\"We are learning Python with baba Ammar\")\n",
    "print('Test for single quote')\n"
   ]
  },
  {
   "cell_type": "code",
   "execution_count": 3,
   "id": "ee5de2de",
   "metadata": {},
   "outputs": [
    {
     "name": "stdout",
     "output_type": "stream",
     "text": [
      "Test for double quotes\n"
     ]
    }
   ],
   "source": [
    "print(\"Test for double quotes\")\n"
   ]
  },
  {
   "cell_type": "code",
   "execution_count": 4,
   "id": "12ea8061",
   "metadata": {},
   "outputs": [
    {
     "name": "stdout",
     "output_type": "stream",
     "text": [
      "test for tripple quotes\n"
     ]
    }
   ],
   "source": [
    "print('''test for tripple quotes''')\n"
   ]
  },
  {
   "cell_type": "code",
   "execution_count": 5,
   "id": "cf1aa81c",
   "metadata": {},
   "outputs": [
    {
     "name": "stdout",
     "output_type": "stream",
     "text": [
      "what's up\n"
     ]
    }
   ],
   "source": [
    "print(\"what's up\")"
   ]
  },
  {
   "cell_type": "code",
   "execution_count": null,
   "id": "3e106279",
   "metadata": {},
   "outputs": [],
   "source": []
  }
 ],
 "metadata": {
  "kernelspec": {
   "display_name": "Python 3 (ipykernel)",
   "language": "python",
   "name": "python3"
  },
  "language_info": {
   "codemirror_mode": {
    "name": "ipython",
    "version": 3
   },
   "file_extension": ".py",
   "mimetype": "text/x-python",
   "name": "python",
   "nbconvert_exporter": "python",
   "pygments_lexer": "ipython3",
   "version": "3.9.7"
  }
 },
 "nbformat": 4,
 "nbformat_minor": 5
}
